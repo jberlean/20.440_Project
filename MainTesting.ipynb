{
 "cells": [
  {
   "cell_type": "code",
   "execution_count": 99,
   "metadata": {
    "collapsed": false,
    "deletable": true,
    "editable": true
   },
   "outputs": [
    {
     "name": "stdout",
     "output_type": "stream",
     "text": [
      "The autoreload extension is already loaded. To reload it, use:\n",
      "  %reload_ext autoreload\n",
      "Finished!\n"
     ]
    }
   ],
   "source": [
    "%load_ext autoreload\n",
    "%autoreload 2\n",
    "\n",
    "print 'Finished!'\n"
   ]
  },
  {
   "cell_type": "code",
   "execution_count": 100,
   "metadata": {
    "collapsed": false,
    "deletable": true,
    "editable": true
   },
   "outputs": [
    {
     "name": "stdout",
     "output_type": "stream",
     "text": [
      "Finished!\n"
     ]
    }
   ],
   "source": [
    "\n",
    "from solver_Lee import solve as lee_solve\n",
    "from solver_440 import solve as new_solve\n",
    "from seq_generator import SequencingGenerator as SeqGen\n",
    "from seq_data import SequencingData\n",
    "import numpy as np\n",
    "from datetime import datetime\n",
    "\n",
    "print 'Finished!'\n"
   ]
  },
  {
   "cell_type": "code",
   "execution_count": 101,
   "metadata": {
    "collapsed": true,
    "deletable": true,
    "editable": true
   },
   "outputs": [],
   "source": [
    "\n",
    "def assess_performance(results,data):\n",
    "    pairs = results['cells']\n",
    "\n",
    "    cells = data.metadata['cells']\n",
    "    all_alphas, all_betas = zip(*cells)\n",
    "    all_alphas,all_betas = set(all_alphas),set(all_betas)\n",
    "\n",
    "    obs_alphas, obs_betas = zip(*data.well_data)\n",
    "    obs_alphas, obs_betas = set(sum(obs_alphas, [])), set(sum(obs_betas, []))\n",
    "\n",
    "    cells_set = set([(a,b) for a,b in cells])\n",
    "    correct_pairs = [p for p in pairs if p in cells_set]\n",
    "    incorrect_pairs = [p for p in pairs if p not in cells_set]\n",
    "\n",
    "    pair_idxs = [cells.index(p) if p in cells else -1 for p in pairs]\n",
    "    actual_freqs = [data.metadata['generated_data']['cell_frequencies'][i] if i!=-1 else 0.0 for i in pair_idxs]\n",
    "    pred_freqs = results['cell_frequencies']\n",
    "    pred_freqs_CI = results['cell_frequencies_CI']\n",
    "    \n",
    "    print \"Solution statistics:\"\n",
    "    print \"  Total cells (in system):\", len(cells)\n",
    "    print \"  Number of alpha chains (in system):\", len(all_alphas)\n",
    "    print \"  Number of beta chains (in system):\", len(all_betas)\n",
    "    print \"  Number of alpha chains (observed):\", len(obs_alphas)\n",
    "    print \"  Number of beta chains (observed):\", len(obs_betas)\n",
    "    print \"  Total pairs identified:\", len(pairs)\n",
    "    print \"  Correct pairs identified: {0} ({1}%)\".format(len(correct_pairs), 100.*len(correct_pairs)/len(cells))\n",
    "    print \"  Incorrect pairs identified: {0}\".format(len(incorrect_pairs))\n",
    "    print \"  False discovery rate: {0}%\".format(100.*len(incorrect_pairs)/len(pairs))\n",
    "    print \"  Mean squared error of frequency guesses: {0}\".format(np.mean([(f1-f2)**2 for f1,f2 in zip(actual_freqs, pred_freqs)]))\n",
    "\n"
   ]
  },
  {
   "cell_type": "code",
   "execution_count": 139,
   "metadata": {
    "collapsed": false,
    "deletable": true,
    "editable": true
   },
   "outputs": [
    {
     "name": "stdout",
     "output_type": "stream",
     "text": [
      "Finished!\n"
     ]
    }
   ],
   "source": [
    "\n",
    "'''\n",
    "Generate landscapes\n",
    "'''\n",
    "\n",
    "gen = SeqGen()\n",
    "\n",
    "'''\n",
    "Set distributions\n",
    "'''\n",
    "\n",
    "w_tot = 100\n",
    "\n",
    "gen.set_cell_frequency_distribution('power-law', alpha=-0.5)\n",
    "gen.set_options(chain_misplacement_prob=0,chain_deletion_prob=10**-1)\n",
    "#gen.chain_misplacement_prob = 10**5 # Prob of a chain migrating to another well\n",
    "#gen.chain_deletion_prob = 10**5 # Prob of a chain failing to be amplified\n",
    "\n",
    "gen.num_wells = w_tot\n",
    "\n",
    "# Make SequencingGenerator object\n",
    "gen.set_cells_per_well('constant', cells_per_well=300)\n",
    "#gen.set_cells_per_well('poisson', lam=100)\n",
    "\n",
    "#gen.cells = SeqGen.generate_cells_lee(600)\n",
    "cells = SeqGen.generate_cells(1000, 1, 2)\n",
    "#cells += SeqGen.generate_cells(250, 2, 1, alpha_start_idx=250, beta_start_idx=251) \n",
    "#cells += SeqGen.generate_cells(250, 1, 2, alpha_start_idx=2000, beta_start_idx=2000) \n",
    "#gen.cells = cells\n",
    "\n",
    "## Save data to a file\n",
    "data = gen.generate_data()\n",
    "data.save_data('patrick_testing.txt')\n",
    "\n",
    "print 'Finished!'"
   ]
  },
  {
   "cell_type": "code",
   "execution_count": 140,
   "metadata": {
    "collapsed": false,
    "deletable": true,
    "editable": true
   },
   "outputs": [
    {
     "name": "stdout",
     "output_type": "stream",
     "text": [
      "Starting image creation...\n",
      "Starting edge detection...\n",
      "Finished AB edges!\n",
      "Finished BA edges!\n",
      "Finished AA edges!\n",
      "Finished BB edges!\n",
      "Finished edge detection, analyzing graph...\n",
      "Finished!\n",
      "PHASOR took 0:00:07.877047 seconds.\n",
      "\n",
      "Lee took 0:00:04.380273 seconds.... 100%\n",
      "\n",
      "\n",
      "PHASOR Performance:\n",
      "Solution statistics:\n",
      "  Total cells (in system): 1000\n",
      "  Number of alpha chains (in system): 1000\n",
      "  Number of beta chains (in system): 1000\n",
      "  Number of alpha chains (observed): 199\n",
      "  Number of beta chains (observed): 200\n",
      "  Total pairs identified: 150\n",
      "  Correct pairs identified: 140 (14.0%)\n",
      "  Incorrect pairs identified: 10\n",
      "  False discovery rate: 6.66666666667%\n",
      "  Mean squared error of frequency guesses: 0.0610703659805\n",
      "\n",
      "LEE Performance:\n",
      "Solution statistics:\n",
      "  Total cells (in system): 1000\n",
      "  Number of alpha chains (in system): 1000\n",
      "  Number of beta chains (in system): 1000\n",
      "  Number of alpha chains (observed): 199\n",
      "  Number of beta chains (observed): 200\n",
      "  Total pairs identified: 53\n",
      "  Correct pairs identified: 40 (4.0%)\n",
      "  Incorrect pairs identified: 13\n",
      "  False discovery rate: 24.5283018868%\n",
      "  Mean squared error of frequency guesses: 0.14451297304\n"
     ]
    }
   ],
   "source": [
    "from solver_440 import solve as new_solve\n",
    "\n",
    "startTime = datetime.now()\n",
    "new_results = new_solve(data,pair_threshold=0.995,verbose=2) # not stringent\n",
    "print 'PHASOR took {} seconds.\\n'.format(datetime.now()-startTime)\n",
    "\n",
    "startTime = datetime.now()\n",
    "lee_results = lee_solve(data,pair_threshold=0.1) # not stringent\n",
    "print 'Lee took {} seconds.\\n'.format(datetime.now()-startTime)\n",
    "\n",
    "print '\\nPHASOR Performance:'\n",
    "assess_performance(new_results,data)\n",
    "\n",
    "print '\\nLEE Performance:'\n",
    "assess_performance(lee_results,data)"
   ]
  },
  {
   "cell_type": "code",
   "execution_count": 133,
   "metadata": {
    "collapsed": false,
    "deletable": true,
    "editable": true
   },
   "outputs": [
    {
     "name": "stdout",
     "output_type": "stream",
     "text": [
      "100\n",
      "100\n"
     ]
    }
   ],
   "source": [
    "print data.metadata['cells_per_well_distribution_params']['cells_per_well']\n",
    "print data.metadata['num_wells']"
   ]
  },
  {
   "cell_type": "code",
   "execution_count": 134,
   "metadata": {
    "collapsed": false,
    "deletable": true,
    "editable": true
   },
   "outputs": [
    {
     "data": {
      "image/png": "[encoded data removed]",
      "text/plain": [
       "<matplotlib.figure.Figure at 0x7f8befbffbd0>"
      ]
     },
     "metadata": {},
     "output_type": "display_data"
    }
   ],
   "source": [
    "\n",
    "import matplotlib.pyplot as plt\n",
    "\n",
    "predicted_freq = []\n",
    "\n",
    "cells_per_well = data.metadata['cells_per_well_distribution_params']['cells_per_well']\n",
    "wells = data.metadata['num_wells']\n",
    "\n",
    "for c in data.metadata['cells']:\n",
    "    if c in new_results['cells']:\n",
    "        val = new_results['cell_frequencies'][new_results['cells'].index(c)]\n",
    "        #predicted_freq.append(val)\n",
    "        predicted_freq.append(1 - ((1-val)**(1./cells_per_well)))\n",
    "    else:\n",
    "        predicted_freq.append(0.)\n",
    "        \n",
    "plt.scatter(predicted_freq,data.metadata['generated_data']['cell_frequencies'])\n",
    "plt.xlabel('Predicted Frequency')\n",
    "plt.ylabel('Actual Frequency')\n",
    "plt.xlim((0.,0.02))\n",
    "plt.ylim((0.,0.02))\n",
    "plt.show()\n"
   ]
  },
  {
   "cell_type": "code",
   "execution_count": null,
   "metadata": {
    "collapsed": true
   },
   "outputs": [],
   "source": []
  }
 ],
 "metadata": {
  "kernelspec": {
   "display_name": "Python 2",
   "language": "python",
   "name": "python2"
  },
  "language_info": {
   "codemirror_mode": {
    "name": "ipython",
    "version": 2
   },
   "file_extension": ".py",
   "mimetype": "text/x-python",
   "name": "python",
   "nbconvert_exporter": "python",
   "pygments_lexer": "ipython2",
   "version": "2.7.12"
  }
 },
 "nbformat": 4,
 "nbformat_minor": 2
}
