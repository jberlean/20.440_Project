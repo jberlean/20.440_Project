{
 "cells": [
  {
   "cell_type": "code",
   "execution_count": 1,
   "metadata": {},
   "outputs": [
    {
     "name": "stdout",
     "output_type": "stream",
     "text": [
      "Finished!\n"
     ]
    }
   ],
   "source": [
    "%load_ext autoreload\n",
    "%autoreload 2\n",
    "\n",
    "print 'Finished!'\n"
   ]
  },
  {
   "cell_type": "code",
   "execution_count": 4,
   "metadata": {},
   "outputs": [
    {
     "name": "stdout",
     "output_type": "stream",
     "text": [
      "Finished!\n"
     ]
    }
   ],
   "source": [
    "\n",
    "# standard libraries\n",
    "from datetime import datetime\n",
    "\n",
    "# nonstandard libraries\n",
    "import numpy as np\n",
    "\n",
    "# homegrown libraries\n",
    "from methods import * # libraries: madhype,alphabetr,pairseq\n",
    "from graphers import * # libraries: graphical_tools\n",
    "from datasim import * # libraries: seq_data,seq_generator\n",
    "\n",
    "print 'Finished!'\n"
   ]
  },
  {
   "cell_type": "code",
   "execution_count": 5,
   "metadata": {},
   "outputs": [
    {
     "name": "stdout",
     "output_type": "stream",
     "text": [
      "Finished!\n"
     ]
    }
   ],
   "source": [
    "\n",
    "def assess_performance(results,data):\n",
    "    pairs = results['cells']\n",
    "\n",
    "    cells = data.metadata['cells']\n",
    "    all_alphas, all_betas = zip(*cells)\n",
    "    all_alphas,all_betas = set(all_alphas),set(all_betas)\n",
    "\n",
    "    obs_alphas, obs_betas = zip(*data.well_data)\n",
    "    obs_alphas, obs_betas = set(sum(obs_alphas, [])), set(sum(obs_betas, []))\n",
    "\n",
    "    cells_set = set([(a,b) for a,b in cells])\n",
    "    correct_pairs = [p for p in pairs if p in cells_set]\n",
    "    incorrect_pairs = [p for p in pairs if p not in cells_set]\n",
    "\n",
    "    pair_idxs = [cells.index(p) if p in cells else -1 for p in pairs]\n",
    "    actual_freqs = [data.metadata['generated_data']['cell_frequencies'][i] if i!=-1 else 0.0 for i in pair_idxs]\n",
    "    pred_freqs = results['cell_frequencies']\n",
    "    pred_freqs_CI = results['cell_frequencies_CI']\n",
    "    \n",
    "    print \"Solution statistics:\"\n",
    "    print \"  Total cells (in system):\", len(cells)\n",
    "    print \"  Number of alpha chains (in system):\", len(all_alphas)\n",
    "    print \"  Number of beta chains (in system):\", len(all_betas)\n",
    "    print \"  Number of alpha chains (observed):\", len(obs_alphas)\n",
    "    print \"  Number of beta chains (observed):\", len(obs_betas)\n",
    "    print \"  Total pairs identified:\", len(pairs)\n",
    "    print \"  Correct pairs identified: {0} ({1}%)\".format(len(correct_pairs), 100.*len(correct_pairs)/len(cells))\n",
    "    print \"  Incorrect pairs identified: {0}\".format(len(incorrect_pairs))\n",
    "    print \"  False discovery rate: {0}%\".format(100.*len(incorrect_pairs)/len(pairs))\n",
    "    print \"  Mean squared error of frequency guesses: {0}\".format(np.mean([(f1-f2)**2 for f1,f2 in zip(actual_freqs, pred_freqs)]))\n",
    "\n",
    "print 'Finished!'"
   ]
  },
  {
   "cell_type": "code",
   "execution_count": 7,
   "metadata": {},
   "outputs": [
    {
     "name": "stdout",
     "output_type": "stream",
     "text": [
      "Finished!\n"
     ]
    }
   ],
   "source": [
    "\n",
    "'''\n",
    "Generate landscapes\n",
    "'''\n",
    "\n",
    "gen = seq_generator.SequencingGenerator()\n",
    "\n",
    "'''\n",
    "Set distributions\n",
    "'''\n",
    "\n",
    "w_tot = 96\n",
    "\n",
    "gen.set_cell_frequency_distribution('power-law', alpha=-1)\n",
    "gen.set_options(chain_misplacement_prob=0,chain_deletion_prob=10**-1)\n",
    "#gen.chain_misplacement_prob = 10**5 # Prob of a chain migrating to another well\n",
    "#gen.chain_deletion_prob = 10**5 # Prob of a chain failing to be amplified\n",
    "\n",
    "gen.num_wells = w_tot\n",
    "\n",
    "# Make SequencingGenerator object\n",
    "gen.set_cells_per_well('constant', cells_per_well=50)\n",
    "#gen.set_cells_per_well('poisson', lam=100)\n",
    "\n",
    "#gen.cells = SeqGen.generate_cells_lee(600)\n",
    "gen.cells = gen.generate_cells(200)\n",
    "#cells += SeqGen.generate_cells(250, 2, 1, alpha_start_idx=250, beta_start_idx=251) \n",
    "#cells += SeqGen.generate_cells(250, 1, 2, alpha_start_idx=2000, beta_start_idx=2000) \n",
    "#gen.cells = cells\n",
    "\n",
    "## Save data to a file\n",
    "data = gen.generate_data()\n",
    "data.save_data('patrick_testing.txt')\n",
    "\n",
    "print 'Finished!'"
   ]
  },
  {
   "cell_type": "code",
   "execution_count": 10,
   "metadata": {},
   "outputs": [
    {
     "name": "stdout",
     "output_type": "stream",
     "text": [
      "[[11, 16, 25, 29, 33, 38, 56, 62, 66, 71, 74, 80, 83, 92, 93, 95, 99, 100, 115, 123], [5, 10, 11, 13, 39, 52, 60, 65, 69, 73, 83, 84, 86, 98, 105, 115, 123, 140, 142, 144, 146, 150]]\n",
      "[((109,), (36,)), ((55,), (160,)), ((95,), (159,)), ((55,), (58,)), ((108,), (2,)), ((123,), (86,)), ((95,), (121,)), ((46,), (116,)), ((54,), (101,)), ((15,), (120,)), ((55,), (75,)), ((97,), (64,)), ((28,), (89,)), ((111,), (22,)), ((101,), (66,)), ((70,), (40,)), ((113,), (72,)), ((120,), (84,)), ((45,), (65,)), ((27,), (153,)), ((34,), (45,)), ((66,), (94,)), ((110,), (60,)), ((74,), (97,)), ((100,), (140,)), ((82,), (52,)), ((101,), (132,)), ((101,), (73,)), ((23,), (6,)), ((8,), (113,)), ((69,), (95,)), ((62,), (83,)), ((105,), (77,)), ((75,), (16,)), ((93,), (13,)), ((74,), (30,)), ((77,), (129,)), ((49,), (79,)), ((12,), (50,)), ((74,), (87,)), ((118,), (156,)), ((118,), (127,)), ((107,), (103,)), ((85,), (134,)), ((10,), (139,)), ((56,), (144,)), ((50,), (152,)), ((26,), (130,)), ((87,), (138,)), ((33,), (124,)), ((79,), (55,)), ((85,), (27,)), ((108,), (144,)), ((70,), (141,)), ((13,), (122,)), ((31,), (25,)), ((65,), (154,)), ((15,), (151,)), ((20,), (87,)), ((35,), (88,)), ((31,), (57,)), ((104,), (28,)), ((33,), (148,)), ((39,), (77,)), ((121,), (110,)), ((63,), (47,)), ((15,), (157,)), ((95,), (115,)), ((53,), (88,)), ((103,), (34,)), ((54,), (59,)), ((104,), (123,)), ((89,), (137,)), ((119,), (29,)), ((78,), (104,)), ((100,), (46,)), ((43,), (146,)), ((18,), (4,)), ((17,), (19,)), ((41,), (44,)), ((74,), (112,)), ((2,), (50,)), ((22,), (31,)), ((118,), (162,)), ((40,), (53,)), ((4,), (90,)), ((21,), (15,)), ((33,), (146,)), ((33,), (12,)), ((118,), (88,)), ((6,), (74,)), ((67,), (76,)), ((31,), (131,)), ((50,), (109,)), ((104,), (146,)), ((48,), (65,)), ((14,), (68,)), ((70,), (119,)), ((15,), (91,)), ((91,), (71,)), ((68,), (81,)), ((73,), (61,)), ((40,), (91,)), ((86,), (136,)), ((9,), (133,)), ((36,), (125,)), ((116,), (100,)), ((74,), (11,)), ((52,), (67,)), ((35,), (106,)), ((6,), (31,)), ((42,), (30,)), ((6,), (163,)), ((16,), (65,)), ((64,), (107,)), ((88,), (80,)), ((122,), (132,)), ((4,), (24,)), ((60,), (48,)), ((104,), (102,)), ((27,), (149,)), ((40,), (146,)), ((6,), (62,)), ((70,), (71,)), ((29,), (84,)), ((0,), (1,)), ((15,), (43,)), ((100,), (96,)), ((104,), (117,)), ((118,), (56,)), ((99,), (150,)), ((30,), (42,)), ((33,), (32,)), ((5,), (147,)), ((72,), (73,)), ((55,), (106,)), ((100,), (10,)), ((38,), (105,)), ((80,), (26,)), ((92,), (132,)), ((6,), (56,)), ((81,), (3,)), ((51,), (55,)), ((71,), (39,)), ((4,), (69,)), ((96,), (14,)), ((4,), (155,)), ((25,), (27,)), ((47,), (55,)), ((81,), (111,)), ((109,), (7,)), ((4,), (158,)), ((112,), (33,)), ((58,), (126,)), ((6,), (108,)), ((24,), (67,)), ((106,), (55,)), ((90,), (37,)), ((35,), (52,)), ((7,), (135,)), ((15,), (0,)), ((104,), (114,)), ((15,), (21,)), ((59,), (136,)), ((44,), (20,)), ((70,), (9,)), ((31,), (161,)), ((83,), (52,)), ((4,), (71,)), ((74,), (51,)), ((118,), (8,)), ((80,), (142,)), ((115,), (98,)), ((1,), (38,)), ((11,), (73,)), ((3,), (27,)), ((114,), (41,)), ((61,), (54,)), ((76,), (63,)), ((6,), (49,)), ((19,), (143,)), ((57,), (145,)), ((37,), (92,)), ((100,), (5,)), ((99,), (93,)), ((74,), (35,)), ((94,), (70,)), ((55,), (130,)), ((33,), (130,)), ((98,), (88,)), ((4,), (128,)), ((118,), (118,)), ((33,), (78,)), ((102,), (17,)), ((95,), (85,)), ((32,), (23,)), ((117,), (18,)), ((84,), (82,)), ((10,), (91,)), ((95,), (99,))]\n"
     ]
    }
   ],
   "source": [
    "print data.well_data[0]\n",
    "print data.metadata['cells']"
   ]
  },
  {
   "cell_type": "code",
   "execution_count": null,
   "metadata": {
    "scrolled": true
   },
   "outputs": [
    {
     "name": "stdout",
     "output_type": "stream",
     "text": [
      "Identifying match probability... 0%\r",
      "Identifying match probability... 0%\r",
      "Identifying match probability... 0%\r",
      "Identifying match probability... 0%\r",
      "Identifying match probability... 0%\r",
      "Identifying match probability... 0%\r",
      "Identifying match probability... 0%\r",
      "Identifying match probability... 0%\r",
      "Identifying match probability... 0%\r",
      "Identifying match probability... 0%\r",
      "Identifying match probability... 0%\r",
      "Identifying match probability... 0%\r",
      "Identifying match probability... 0%\r",
      "Identifying match probability... 0%\r",
      "Identifying match probability... 0%\r",
      "Identifying match probability... 0%\r",
      "Identifying match probability... 0%\r",
      "Identifying match probability... 0%\r",
      "Identifying match probability... 0%\r",
      "Identifying match probability... 0%\r",
      "Identifying match probability... 0%\r",
      "Identifying match probability... 0%\r",
      "Identifying match probability... 0%\r",
      "Identifying match probability... 0%\r",
      "Identifying match probability... 0%\r",
      "Identifying match probability... 0%\r",
      "Identifying match probability... 0%\r",
      "Identifying match probability... 0%\r",
      "Identifying match probability... 0%\r",
      "Identifying match probability... 0%\r",
      "Identifying match probability... 0%\r",
      "Identifying match probability... 0%\r",
      "Identifying match probability... 0%\r",
      "Identifying match probability... 0%\r",
      "Identifying match probability... 0%\r",
      "Identifying match probability... 0%\r",
      "Identifying match probability... 0%\r",
      "Identifying match probability... 0%\r",
      "Identifying match probability... 0%\r",
      "Identifying match probability... 0%\r",
      "Identifying match probability... 0%\r",
      "Identifying match probability... 0%\r",
      "Identifying match probability... 0%\r",
      "Identifying match probability... 0%\r",
      "Identifying match probability... 0%\r",
      "Identifying match probability... 0%\r",
      "Identifying match probability... 0%\r",
      "Identifying match probability... 1%\r",
      "Identifying match probability... 1%\r",
      "Identifying match probability... 1%\r",
      "Identifying match probability... 1%\r",
      "Identifying match probability... 1%\r",
      "Identifying match probability... 1%\r",
      "Identifying match probability... 1%\r",
      "Identifying match probability... 1%\r",
      "Identifying match probability... 1%\r",
      "Identifying match probability... 1%\r",
      "Identifying match probability... 1%\r",
      "Identifying match probability... 1%\r",
      "Identifying match probability... 1%\r",
      "Identifying match probability... 1%\r",
      "Identifying match probability... 1%\r",
      "Identifying match probability... 1%\r",
      "Identifying match probability... 1%\r",
      "Identifying match probability... 1%\r",
      "Identifying match probability... 1%\r",
      "Identifying match probability... 1%\r",
      "Identifying match probability... 1%\r",
      "Identifying match probability... 1%\r",
      "Identifying match probability... 1%\r",
      "Identifying match probability... 1%\r",
      "Identifying match probability... 1%\r",
      "Identifying match probability... 1%\r",
      "Identifying match probability... 1%\r",
      "Identifying match probability... 1%\r",
      "Identifying match probability... 1%\r",
      "Identifying match probability... 1%\r",
      "Identifying match probability... 1%\r",
      "Identifying match probability... 1%\r",
      "Identifying match probability... 1%\r",
      "Identifying match probability... 1%\r",
      "Identifying match probability... 1%\r",
      "Identifying match probability... 1%\r",
      "Identifying match probability... 1%\r"
     ]
    },
    {
     "name": "stderr",
     "output_type": "stream",
     "text": [
      "methods/pairseq.py:91: RuntimeWarning: invalid value encountered in double_scalars\n",
      "  return nCk(C,c)*(f**c)*((1-f)**(C-c))\n"
     ]
    },
    {
     "name": "stdout",
     "output_type": "stream",
     "text": [
      "Identifying match probability... 3%\r"
     ]
    }
   ],
   "source": [
    "from methods import * # libraries: madhype,alphabetr,pairseq\n",
    "\n",
    "\n",
    "#startTime = datetime.now()\n",
    "#new_results = madhype.solve(data,pair_threshold=0.9,verbose=2) # not stringent\n",
    "#print 'MAD-HYPE took {} seconds.\\n'.format(datetime.now()-startTime)\n",
    "\n",
    "#startTime = datetime.now()\n",
    "#lee_results = alphabetr.solve(data,pair_threshold=0.1) # not stringent\n",
    "#print 'Lee took {} seconds.\\n'.format(datetime.now()-startTime)\n",
    "\n",
    "startTime = datetime.now()\n",
    "lee_results = pairseq.solve(data,pair_threshold=0.1) # not stringent\n",
    "print 'Howie took {} seconds.\\n'.format(datetime.now()-startTime)\n",
    "\n",
    "#print '\\nMAD-HYPE Performance:'\n",
    "#assess_performance(new_results,data)\n",
    "\n",
    "#print '\\nLEE Performance:'\n",
    "#assess_performance(lee_results,data)"
   ]
  },
  {
   "cell_type": "code",
   "execution_count": 6,
   "metadata": {},
   "outputs": [
    {
     "ename": "NameError",
     "evalue": "name 'data' is not defined",
     "output_type": "error",
     "traceback": [
      "\u001b[0;31m---------------------------------------------------------------------------\u001b[0m",
      "\u001b[0;31mNameError\u001b[0m                                 Traceback (most recent call last)",
      "\u001b[0;32m<ipython-input-6-7460ab268597>\u001b[0m in \u001b[0;36m<module>\u001b[0;34m()\u001b[0m\n\u001b[0;32m----> 1\u001b[0;31m \u001b[0;32mprint\u001b[0m \u001b[0mdata\u001b[0m\u001b[0;34m.\u001b[0m\u001b[0mmetadata\u001b[0m\u001b[0;34m[\u001b[0m\u001b[0;34m'cells_per_well_distribution_params'\u001b[0m\u001b[0;34m]\u001b[0m\u001b[0;34m[\u001b[0m\u001b[0;34m'cells_per_well'\u001b[0m\u001b[0;34m]\u001b[0m\u001b[0;34m\u001b[0m\u001b[0m\n\u001b[0m\u001b[1;32m      2\u001b[0m \u001b[0;32mprint\u001b[0m \u001b[0mdata\u001b[0m\u001b[0;34m.\u001b[0m\u001b[0mmetadata\u001b[0m\u001b[0;34m[\u001b[0m\u001b[0;34m'num_wells'\u001b[0m\u001b[0;34m]\u001b[0m\u001b[0;34m\u001b[0m\u001b[0m\n",
      "\u001b[0;31mNameError\u001b[0m: name 'data' is not defined"
     ]
    }
   ],
   "source": [
    "print data.metadata['cells_per_well_distribution_params']['cells_per_well']\n",
    "print data.metadata['num_wells']"
   ]
  },
  {
   "cell_type": "code",
   "execution_count": 39,
   "metadata": {},
   "outputs": [
    {
     "data": {
      "image/png": "[encoded data removed]",
      "text/plain": [
       "<matplotlib.figure.Figure at 0x7f11f8dc5d50>"
      ]
     },
     "metadata": {},
     "output_type": "display_data"
    },
    {
     "data": {
      "image/png": "[encoded data removed]",
      "text/plain": [
       "<matplotlib.figure.Figure at 0x7f11f8acc390>"
      ]
     },
     "metadata": {},
     "output_type": "display_data"
    }
   ],
   "source": [
    "\n",
    "import matplotlib.pyplot as plt\n",
    "\n",
    "def grapher(results,mod=True):\n",
    "    predicted_freq = []\n",
    "\n",
    "    cells_per_well = data.metadata['cells_per_well_distribution_params']['cells_per_well']\n",
    "    wells = data.metadata['num_wells']\n",
    "\n",
    "    for (a,),(b,) in data.metadata['cells']:\n",
    "        c = (a,b)\n",
    "        if c in results['cells']:\n",
    "            val = results['cell_frequencies'][results['cells'].index(c)]\n",
    "            if mod: predicted_freq.append(1 - ((1-val)**(1./cells_per_well)))\n",
    "            else: predicted_freq.append(val)\n",
    "        else:\n",
    "            predicted_freq.append(0.)\n",
    "\n",
    "    plt.scatter(predicted_freq,data.metadata['generated_data']['cell_frequencies'])\n",
    "    plt.plot(np.arange(0,.1,.01),np.arange(0,.1,.01))\n",
    "    plt.xlabel('Predicted Frequency')\n",
    "    plt.ylabel('Actual Frequency')\n",
    "    plt.xlim((0.,0.04))\n",
    "    plt.ylim((0.,0.04))\n",
    "    plt.show()\n",
    "\n",
    "grapher(new_results,True)\n",
    "grapher(lee_results,False)\n"
   ]
  },
  {
   "cell_type": "code",
   "execution_count": null,
   "metadata": {
    "collapsed": true
   },
   "outputs": [],
   "source": []
  }
 ],
 "metadata": {
  "kernelspec": {
   "display_name": "Python 2",
   "language": "python",
   "name": "python2"
  },
  "language_info": {
   "codemirror_mode": {
    "name": "ipython",
    "version": 2
   },
   "file_extension": ".py",
   "mimetype": "text/x-python",
   "name": "python",
   "nbconvert_exporter": "python",
   "pygments_lexer": "ipython2",
   "version": "2.7.12"
  }
 },
 "nbformat": 4,
 "nbformat_minor": 2
}
