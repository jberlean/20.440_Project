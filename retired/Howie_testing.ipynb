{
 "cells": [
  {
   "cell_type": "code",
   "execution_count": 44,
   "metadata": {},
   "outputs": [
    {
     "name": "stdout",
     "output_type": "stream",
     "text": [
      "Finished!\n"
     ]
    }
   ],
   "source": [
    "\n",
    "'''\n",
    "Library Importation\n",
    "'''\n",
    "\n",
    "# standard libraries\n",
    "import math\n",
    "import time\n",
    "\n",
    "# nonstandard library import\n",
    "import numpy as np\n",
    "from scipy.misc import comb\n",
    "from scipy.special import factorial\n",
    "import matplotlib.pyplot as plt\n",
    "\n",
    "print 'Finished!'\n",
    "\n"
   ]
  },
  {
   "cell_type": "code",
   "execution_count": 51,
   "metadata": {},
   "outputs": [
    {
     "name": "stdout",
     "output_type": "stream",
     "text": [
      "Finished!\n"
     ]
    }
   ],
   "source": [
    "\n",
    "'''\n",
    "Factory Methods\n",
    "'''\n",
    "\n",
    "# Mean of PDF\n",
    "def mean_pdf(x,y):\n",
    "    return sum([i*j for i,j in zip(x,y)])\n",
    "\n",
    "# Variance of PDF\n",
    "def var_pdf(x,y):\n",
    "    avg = mean_pdf(x,y)\n",
    "    return sum([((i-avg)**2)*j for i,j in zip(x,y)])\n",
    "\n",
    "# N choose K\n",
    "def nCk(n, r):\n",
    "    return comb(n,r)\n",
    "\n",
    "# Beta Function\n",
    "def beta(x,y):\n",
    "    #return math.gamma(x)*math.gamma(y)/math.gamma(x + y)\n",
    "    return math.exp(math.lgamma(x) + math.lgamma(y) - math.lgamma(x+y))\n",
    "\n",
    "# Beta function parameters from mean and variance\n",
    "def beta_parameters(error,samples):\n",
    "    return (1.-error)*samples,error*samples\n",
    "\n",
    "# Stirling number generator (2nd kind)\n",
    "def stirling(n,k,memory={}):\n",
    "    if not (n,k) in memory.keys(): \n",
    "        n1=n\n",
    "        k1=k\n",
    "        if n<=0:\n",
    "            return 1\n",
    "        elif k<=0:\n",
    "            memory[(n,k)] = 0\n",
    "        elif (n==0 and k==0):\n",
    "            memory[(n,k)] = -1\n",
    "        elif n!=0 and n==k:\n",
    "            memory[(n,k)] = 1\n",
    "        elif n<k:\n",
    "            memory[(n,k)] = 0\n",
    "        else:\n",
    "            temp1=stirling(n1-1,k1)\n",
    "            temp1=k1*temp1\n",
    "            memory[(n,k)] = (k1*(stirling(n1-1,k1)))+stirling(n1-1,k1-1)\n",
    "    return memory[(n,k)]\n",
    "\n",
    "\n",
    "'''\n",
    "Howie Equations\n",
    "'''\n",
    "\n",
    "def eq2(c,f,C):\n",
    "    return nCk(C,c)*(f**c)*((1-f)**(C-c))\n",
    "\n",
    "def eq3(cx,c,s1,s2):\n",
    "    return (nCk(c,cx)*beta(cx+s1,c-cx+s2)/beta(s1,s2))\n",
    "\n",
    "def eq4(w,c,W):\n",
    "    return factorial(W)*stirling(c,w)/(factorial(W-w)*(W**c))\n",
    "\n",
    "def eq6(w_ab,w_a,w_b,w):\n",
    "    return (nCk(w,w_ab)*nCk(w-w_ab,w_a-w_ab)*nCk(w-w_a,w_b-w_ab))/(nCk(w,w_a)*nCk(w,w_b))\n",
    "\n",
    "\n",
    "def pairseq(w_ab,w_a,w_b,f,C,W,s1,s2,threshold = 1e-3,silent=True):\n",
    "    p_total = 0. # prep a summing variable\n",
    "    \n",
    "    for c_i in xrange(0,C + 1):\n",
    "        \n",
    "        # Check on the status of w_i\n",
    "        if c_i < max(w_ab,w_a,w_b): \n",
    "            if not silent: print 'Pre-P1 exit'\n",
    "            continue\n",
    "        \n",
    "        if not silent: print 'Identifying match probability... {}%\\r'.format(100*(c_i+1)/C),\n",
    "\n",
    "        p1 = eq2(c_i,f,C)\n",
    "        \n",
    "        # Check on the status of p1\n",
    "        if p1 < threshold: \n",
    "            if not silent: print 'P1 exit'\n",
    "            continue # condition for early exit (apply to p)\n",
    "            \n",
    "        for w_i in xrange(0,1 + min([c_i,W])):\n",
    "                        \n",
    "            # Check on the status of w_i\n",
    "            if w_i < max(w_a,w_b):            \n",
    "                if not silent: print 'Pre-P2 exit'\n",
    "                continue\n",
    "                \n",
    "            p2 = eq4(w_i,c_i,W)\n",
    "   \n",
    "            \n",
    "            # Check on the status of p2\n",
    "            if p1*p2 < threshold: \n",
    "                if not silent: print 'P2 exit'\n",
    "                continue # condition for early exit (apply to p_term)\n",
    "            \n",
    "            for c_ia in xrange(0,c_i + 1):\n",
    "                \n",
    "                # Check on the status of c_ia\n",
    "                if c_ia < w_a: \n",
    "                    if not silent: print 'Pre-P3 exit'\n",
    "                    continue # you need atleast c cells to find a in w_a wells\n",
    "                    \n",
    "                p3 = eq3(c_ia,c_i,s1,s2)\n",
    "                    \n",
    "                # Check on the value of p3\n",
    "                if p1*p2*p3 < threshold: \n",
    "                    if not silent: print 'P3 exit'\n",
    "                    continue # condition for early exit (apply to p_term)\n",
    "                \n",
    "                for c_ib in xrange(0,c_i + 1):\n",
    "                    \n",
    "                    # Check on the status of c_ib\n",
    "                    if c_ib < w_b: \n",
    "                        if not silent: print 'Pre-P4 exit'\n",
    "                        continue # you need atleast c cells to find b in w_b wells\n",
    "                    \n",
    "                    p4 = eq3(c_ib,c_i,s1,s2)\n",
    "\n",
    "                    # Check on the status of p4\n",
    "                    if p1*p2*p3*p4 < threshold:\n",
    "                        if not silent: print 'P4 exit'\n",
    "                        continue # condition for early exit (apply to p_term)\n",
    "                    \n",
    "                    # Normally we would integrate across all values w_a,w_b,w_ab\n",
    "                    p5 = eq4(w_a,c_ia,W)\n",
    "                    p6 = eq4(w_b,c_ib,W)\n",
    "\n",
    "                    \n",
    "                    if p1*p2*p3*p4*p5*p6 < threshold:\n",
    "                        if not silent: print 'P5/6 exit'\n",
    "                        continue\n",
    "                    \n",
    "                    p7 = eq6(w_ab,w_a,w_b,w_i)\n",
    "                    p8 = 1\n",
    "                    \n",
    "                    if all([p5,p6,p7,p8]):\n",
    "                        p_total += p1*p2*p3*p4*p5*p6*p7*p8\n",
    "\n",
    "    \n",
    "    print ''\n",
    "    return p_total,timer\n",
    "\n",
    "print 'Finished!'\n",
    "        "
   ]
  },
  {
   "cell_type": "code",
   "execution_count": 53,
   "metadata": {},
   "outputs": [
    {
     "name": "stdout",
     "output_type": "stream",
     "text": [
      "Identifying match probability... 100%\n",
      "Total probability: 0.00149251125843\n",
      "Finished!\n"
     ]
    }
   ],
   "source": [
    "#'''\n",
    "\n",
    "error,samples = 0.1,1000\n",
    "s1,s2 = beta_parameters(error,samples)\n",
    "p,timer = pairseq(12,13,13,0.05,500,50,s1,s2,threshold=1e-6)\n",
    "\n",
    "\n",
    "#'''\n",
    "\n",
    "'''\n",
    "w_a,w_b,w = 25,10,25\n",
    "\n",
    "total = 0\n",
    "for w_ab in xrange(max(0,w_a+w_b-w),min(w_a,w_b)+1):\n",
    "    print 'Parameters:',w_ab,w_a,w_b,w\n",
    "    print 'Eq6:',eq6(w_ab,w_a,w_b,w)\n",
    "    total += eq6(w_ab,w_a,w_b,w)\n",
    "    print 'Subtotal:',total\n",
    "    \n",
    "print 'Total:',total\n",
    "#'''\n",
    "\n",
    "#'''\n",
    "\n",
    "# likely conclusions... s1,s2 define mean reduction\n",
    "# Reduction = s1/(s1+s2)\n",
    "# We should just choose beta parameters reflective of the binomial\n",
    "\n",
    "print 'Total probability:',p\n",
    "print 'Finished!'\n"
   ]
  },
  {
   "cell_type": "code",
   "execution_count": 22,
   "metadata": {},
   "outputs": [
    {
     "data": {
      "image/png": "[encoded data removed]",
      "text/plain": [
       "<matplotlib.figure.Figure at 0x7fb16fd9e4d0>"
      ]
     },
     "metadata": {},
     "output_type": "display_data"
    }
   ],
   "source": [
    "avg,std = [np.mean(values) for values in timer.values()],[np.std(values) for values in timer.values()]\n",
    "\n",
    "ind = np.arange(len(avg))  # the x locations for the groups\n",
    "width = 0.35       # the width of the bars\n",
    "\n",
    "fig, ax = plt.subplots()\n",
    "rects1 = ax.bar(ind, avg, width, color='r', yerr=std)\n",
    "\n",
    "ax.set_ylabel('Time (ms)')\n",
    "ax.set_title('Execution Time / Function')\n",
    "ax.set_xticks(ind)\n",
    "ax.set_xticklabels(timer.keys())   \n",
    "\n",
    "plt.show()\n",
    "    "
   ]
  },
  {
   "cell_type": "code",
   "execution_count": 42,
   "metadata": {},
   "outputs": [
    {
     "name": "stdout",
     "output_type": "stream",
     "text": [
      "6\n",
      "8\n",
      "6\n"
     ]
    }
   ],
   "source": [
    "\n",
    "\n",
    "\n",
    "\n",
    "\n",
    "\n",
    "\n",
    "\n"
   ]
  },
  {
   "cell_type": "code",
   "execution_count": null,
   "metadata": {
    "collapsed": true
   },
   "outputs": [],
   "source": []
  }
 ],
 "metadata": {
  "kernelspec": {
   "display_name": "Python 2",
   "language": "python",
   "name": "python2"
  },
  "language_info": {
   "codemirror_mode": {
    "name": "ipython",
    "version": 2
   },
   "file_extension": ".py",
   "mimetype": "text/x-python",
   "name": "python",
   "nbconvert_exporter": "python",
   "pygments_lexer": "ipython2",
   "version": "2.7.12"
  }
 },
 "nbformat": 4,
 "nbformat_minor": 2
}
