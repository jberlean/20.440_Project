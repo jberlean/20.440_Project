{
 "cells": [
  {
   "cell_type": "code",
   "execution_count": 12,
   "metadata": {
    "collapsed": false,
    "deletable": true,
    "editable": true
   },
   "outputs": [
    {
     "name": "stdout",
     "output_type": "stream",
     "text": [
      "-7.20077993393\n",
      "-2.96867429473\n",
      "-7.20077993393\n",
      "-2.96867429473\n"
     ]
    }
   ],
   "source": [
    "\n",
    "\n",
    "'''\n",
    "Library Importation\n",
    "'''\n",
    "\n",
    "# standard libraries\n",
    "import math\n",
    "import operator as op\n",
    "import time\n",
    "\n",
    "# nonstandard libraries\n",
    "import numpy as np\n",
    "import scipy.misc\n",
    "#import matplotlib.pyplot as plt\n",
    "#from seq_generator import SequencingGenerator as SeqGen\n",
    "#from seq_data import SequencingData\n",
    "\n",
    "\n",
    "# N choose K\n",
    "def nCk(n, r):\n",
    "    return scipy.misc.comb(n,r)\n",
    "\n",
    "# non-match MLE estimator for f_a,f_b,f_ab\n",
    "def nonmatch_frequency(w_ab,w_a,w_b,w_tot):\n",
    "    return float(w_ab)/w_tot,float(w_a+w_ab)/w_tot,float(w_b+w_ab)/w_tot\n",
    "\n",
    "# MLE estimator for f_a,f_b,f_ab\n",
    "def match_frequency(w_ab,w_a,w_b,w_tot):\n",
    "    if w_tot-w_ab == 0: f_a = 0\n",
    "    else: f_a = float(w_a)/(w_tot-w_ab)\n",
    "    if w_tot-w_ab == 0: f_b = 0\n",
    "    else: f_b = float(w_b)/(w_tot-w_ab)\n",
    "    f_ab = max((0,1. - (1.-(float(w_ab)/w_tot))/(1-f_a*f_b)))\n",
    "    return f_ab,f_a,f_b\n",
    "\n",
    "'''\n",
    "Probability Calculators\n",
    "'''\n",
    "\n",
    "# prior probability\n",
    "def nonmatch_probability(w_ab,w_a,w_b,w_tot):\n",
    "    w_ab,w_a,w_b,w_tot = int(w_ab),int(w_a),int(w_b),int(w_tot)\n",
    "    f_ab,f_a,f_b = nonmatch_frequency(w_ab,w_a,w_b,w_tot)\n",
    "    prob = instance_probability(w_ab,w_a,w_b,w_tot,f_ab,f_a,f_b)\n",
    "    if prob == 0.: \n",
    "        return float('-inf')\n",
    "    return math.log10(prob)\n",
    "\n",
    "def match_probability(w_ab,w_a,w_b,w_tot):\n",
    "    if w_ab == 0: return float('nan')\n",
    "    w_ab,w_a,w_b,w_tot = int(w_ab),int(w_a),int(w_b),int(w_tot)\n",
    "    f_ab,f_a,f_b = match_frequency(w_ab,w_a,w_b,w_tot)\n",
    "    prob_total = 0\n",
    "    for w in xrange(0,int(w_ab)+1):\n",
    "        prob_total += (nCk(w_tot,w)*(f_ab**(w))*((1-f_ab)**(w_tot-(w))))*instance_probability(w_ab-w,w_a,w_b,w_tot-w,f_ab,f_a,f_b)        \n",
    "    if prob_total == 0.: return float('-inf')\n",
    "    return math.log10(prob_total)\n",
    "\n",
    "def instance_probability(w_ab,w_a,w_b,w_tot,f_ab,f_a,f_b):\n",
    "    a = nCk(w_tot,w_a+w_ab)*(f_a**(w_a+w_ab))*((1-f_a)**(w_tot-(w_a+w_ab)))\n",
    "    b = nCk(w_a+w_ab,w_ab)*(f_b**w_ab)*((1-f_b)**(w_a+w_ab-w_ab))\n",
    "    c =  nCk(w_tot-(w_a+w_ab),w_b)*(f_b**w_b)*((1-f_b)**(w_tot-(w_a+w_b+w_ab)))\n",
    "    return a*b*c\n"
   ]
  },
  {
   "cell_type": "code",
   "execution_count": 4,
   "metadata": {
    "collapsed": false,
    "deletable": true,
    "editable": true
   },
   "outputs": [
    {
     "ename": "NameError",
     "evalue": "name 'datetime' is not defined",
     "output_type": "error",
     "traceback": [
      "\u001b[0;31m---------------------------------------------------------------------------\u001b[0m",
      "\u001b[0;31mNameError\u001b[0m                                 Traceback (most recent call last)",
      "\u001b[0;32m<ipython-input-4-ccf9ac9f9e58>\u001b[0m in \u001b[0;36m<module>\u001b[0;34m()\u001b[0m\n\u001b[0;32m----> 1\u001b[0;31m \u001b[0mstartTime\u001b[0m \u001b[0;34m=\u001b[0m \u001b[0mdatetime\u001b[0m\u001b[0;34m.\u001b[0m\u001b[0mnow\u001b[0m\u001b[0;34m(\u001b[0m\u001b[0;34m)\u001b[0m\u001b[0;34m\u001b[0m\u001b[0m\n\u001b[0m\u001b[1;32m      2\u001b[0m \u001b[0;34m\u001b[0m\u001b[0m\n\u001b[1;32m      3\u001b[0m \u001b[0;32mfor\u001b[0m \u001b[0mi\u001b[0m \u001b[0;32min\u001b[0m \u001b[0mxrange\u001b[0m\u001b[0;34m(\u001b[0m\u001b[0mloops\u001b[0m\u001b[0;34m)\u001b[0m\u001b[0;34m:\u001b[0m\u001b[0;34m\u001b[0m\u001b[0m\n\u001b[1;32m      4\u001b[0m     \u001b[0mncr1\u001b[0m\u001b[0;34m(\u001b[0m\u001b[0;36m1000\u001b[0m\u001b[0;34m,\u001b[0m\u001b[0;36m300\u001b[0m\u001b[0;34m)\u001b[0m\u001b[0;34m\u001b[0m\u001b[0m\n\u001b[1;32m      5\u001b[0m \u001b[0;34m\u001b[0m\u001b[0m\n",
      "\u001b[0;31mNameError\u001b[0m: name 'datetime' is not defined"
     ]
    }
   ],
   "source": [
    "startTime = datetime.now()\n",
    "\n",
    "for i in xrange(loops):\n",
    "    ncr1(1000,300)\n",
    "\n",
    "print '{} loops took {} seconds.'.format(loops,datetime.now()-startTime)\n",
    "\n",
    "startTime = datetime.now()\n",
    "\n",
    "for i in xrange(loops):\n",
    "    ncr2(1000,300)\n",
    "\n",
    "print '{} loops took {} seconds.'.format(loops,datetime.now()-startTime)"
   ]
  },
  {
   "cell_type": "code",
   "execution_count": null,
   "metadata": {
    "collapsed": true,
    "deletable": true,
    "editable": true
   },
   "outputs": [],
   "source": []
  }
 ],
 "metadata": {
  "kernelspec": {
   "display_name": "Python 2",
   "language": "python",
   "name": "python2"
  },
  "language_info": {
   "codemirror_mode": {
    "name": "ipython",
    "version": 2
   },
   "file_extension": ".py",
   "mimetype": "text/x-python",
   "name": "python",
   "nbconvert_exporter": "python",
   "pygments_lexer": "ipython2",
   "version": "2.7.12"
  }
 },
 "nbformat": 4,
 "nbformat_minor": 2
}
