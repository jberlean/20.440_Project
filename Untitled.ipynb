{
 "cells": [
  {
   "cell_type": "code",
   "execution_count": 14,
   "metadata": {
    "collapsed": false,
    "deletable": true,
    "editable": true
   },
   "outputs": [],
   "source": [
    "from datetime import datetime\n",
    "import operator as op\n",
    "import scipy.misc\n",
    "\n",
    "def ncr1(n, r):\n",
    "    r = min(r, n-r)\n",
    "    if r == 0: return 1\n",
    "    numer = reduce(op.mul, xrange(n, n-r, -1))\n",
    "    denom = reduce(op.mul, xrange(1, r+1))\n",
    "    return numer//denom\n",
    "\n",
    "def ncr2(n, r):\n",
    "    return scipy.misc.comb(n,r)\n",
    "\n",
    "\n",
    "loops = 10000\n",
    "N,k = 10000,3000\n"
   ]
  },
  {
   "cell_type": "code",
   "execution_count": 15,
   "metadata": {
    "collapsed": false,
    "deletable": true,
    "editable": true
   },
   "outputs": [
    {
     "name": "stdout",
     "output_type": "stream",
     "text": [
      "10000 loops took 0:00:00.918460 seconds.\n",
      "10000 loops took 0:00:00.048256 seconds.\n"
     ]
    }
   ],
   "source": [
    "startTime = datetime.now()\n",
    "\n",
    "for i in xrange(loops):\n",
    "    ncr1(1000,300)\n",
    "\n",
    "print '{} loops took {} seconds.'.format(loops,datetime.now()-startTime)\n",
    "\n",
    "startTime = datetime.now()\n",
    "\n",
    "for i in xrange(loops):\n",
    "    ncr2(1000,300)\n",
    "\n",
    "print '{} loops took {} seconds.'.format(loops,datetime.now()-startTime)"
   ]
  },
  {
   "cell_type": "code",
   "execution_count": null,
   "metadata": {
    "collapsed": true
   },
   "outputs": [],
   "source": []
  }
 ],
 "metadata": {
  "kernelspec": {
   "display_name": "Python 2",
   "language": "python",
   "name": "python2"
  },
  "language_info": {
   "codemirror_mode": {
    "name": "ipython",
    "version": 2
   },
   "file_extension": ".py",
   "mimetype": "text/x-python",
   "name": "python",
   "nbconvert_exporter": "python",
   "pygments_lexer": "ipython2",
   "version": "2.7.12"
  }
 },
 "nbformat": 4,
 "nbformat_minor": 2
}
